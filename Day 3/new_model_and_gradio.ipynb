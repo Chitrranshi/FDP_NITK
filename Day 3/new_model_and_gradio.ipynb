{
 "cells": [
  {
   "cell_type": "code",
   "execution_count": null,
   "metadata": {},
   "outputs": [],
   "source": [
    "#https://towardsdatascience.com/building-a-custom-model-in-scikit-learn-b0da965a1299\n",
    "#https://scikit-learn.org/stable/developers/develop.html"
   ]
  },
  {
   "cell_type": "code",
   "execution_count": 1,
   "metadata": {},
   "outputs": [],
   "source": [
    "import numpy as np\n",
    "from sklearn.base import RegressorMixin\n",
    "\n",
    "class xyzRegressor(RegressorMixin):\n",
    "    def fit(self, X=None, y=None):\n",
    "        # The prediction will always just be the mean of y\n",
    "        self.y_bar_ = np.mean(y)  \n",
    "        \n",
    "    def predict(self, X=None):\n",
    "        # Give back the mean of y, in the same\n",
    "        # length as the number of X observations\n",
    "        return np.ones(X.shape[0]) * self.y_bar_"
   ]
  },
  {
   "cell_type": "code",
   "execution_count": null,
   "metadata": {},
   "outputs": [],
   "source": [
    "model = NullRegressor()\n",
    "model.fit(X,y)\n",
    "model.predict(X)"
   ]
  },
  {
   "cell_type": "markdown",
   "metadata": {},
   "source": [
    "Scikit-Learn gives us one for each general type of model: RegressorMixin, ClassifierMixin, ClusterMixin, TransformerMixin"
   ]
  },
  {
   "cell_type": "markdown",
   "metadata": {},
   "source": [
    "every Scikit-Learn estimator is guaranteed to have:\n",
    "\n",
    "    .fit()\n",
    "    .predict()\n",
    "    .score()\n",
    "    .set_params()\n",
    "    .get_params()"
   ]
  },
  {
   "cell_type": "code",
   "execution_count": 12,
   "metadata": {},
   "outputs": [],
   "source": [
    "#source: https://towardsdatascience.com/build-an-awesome-ui-for-your-machine-learning-models-7fab52ecdd86\n",
    "#https://dash.plotly.com/introduction\n",
    "#https://docs.streamlit.io/en/stable/\n",
    "#https://streamlit.io/\n",
    "#https://gradio.app/"
   ]
  },
  {
   "cell_type": "code",
   "execution_count": 8,
   "metadata": {},
   "outputs": [
    {
     "name": "stdout",
     "output_type": "stream",
     "text": [
      "Collecting pdfminer.six\n",
      "  Downloading pdfminer.six-20201018-py3-none-any.whl (5.6 MB)\n",
      "\u001b[K     |████████████████████████████████| 5.6 MB 1.8 MB/s eta 0:00:01\n",
      "\u001b[?25hRequirement already satisfied: sortedcontainers in /home/ajit/anaconda3/lib/python3.8/site-packages (from pdfminer.six) (2.2.2)\n",
      "Requirement already satisfied: cryptography in /home/ajit/anaconda3/lib/python3.8/site-packages (from pdfminer.six) (2.9.2)\n",
      "Requirement already satisfied: chardet; python_version > \"3.0\" in /home/ajit/anaconda3/lib/python3.8/site-packages (from pdfminer.six) (3.0.4)\n",
      "Requirement already satisfied: cffi!=1.11.3,>=1.8 in /home/ajit/anaconda3/lib/python3.8/site-packages (from cryptography->pdfminer.six) (1.14.0)\n",
      "Requirement already satisfied: six>=1.4.1 in /home/ajit/anaconda3/lib/python3.8/site-packages (from cryptography->pdfminer.six) (1.15.0)\n",
      "Requirement already satisfied: pycparser in /home/ajit/anaconda3/lib/python3.8/site-packages (from cffi!=1.11.3,>=1.8->cryptography->pdfminer.six) (2.20)\n",
      "Installing collected packages: pdfminer.six\n",
      "Successfully installed pdfminer.six-20201018\n"
     ]
    }
   ],
   "source": [
    "#!pip install gtts\n",
    "#!pip install pdfminer\n",
    "#!pip install gradio\n",
    "#!pip install pdfminer.six"
   ]
  },
  {
   "cell_type": "code",
   "execution_count": 2,
   "metadata": {},
   "outputs": [
    {
     "name": "stdout",
     "output_type": "stream",
     "text": [
      "Running locally at: http://127.0.0.1:7861/\n",
      "To create a public link, set `share=True` in `launch()`.\n",
      "Interface loading below...\n"
     ]
    },
    {
     "data": {
      "text/html": [
       "\n",
       "        <iframe\n",
       "            width=\"900\"\n",
       "            height=\"500\"\n",
       "            src=\"http://127.0.0.1:7861/\"\n",
       "            frameborder=\"0\"\n",
       "            allowfullscreen\n",
       "        ></iframe>\n",
       "        "
      ],
      "text/plain": [
       "<IPython.lib.display.IFrame at 0x7fd8e00c6b20>"
      ]
     },
     "metadata": {},
     "output_type": "display_data"
    },
    {
     "data": {
      "text/plain": [
       "(<Flask 'gradio.networking'>, 'http://127.0.0.1:7861/', None)"
      ]
     },
     "execution_count": 2,
     "metadata": {},
     "output_type": "execute_result"
    }
   ],
   "source": [
    "from gtts import gTTS\n",
    "\n",
    "from pdfminer.high_level import extract_text\n",
    "\n",
    "import gradio as gr\n",
    "\n",
    "def pdf_to_text(file_obj):\n",
    "   text = extract_text(file_obj.name)\n",
    "   myobj = gTTS(text=text, lang='en', slow=False)\n",
    "   myobj.save(\"output.wav\")\n",
    "   return 'output.wav'\n",
    "\n",
    "iface = gr.Interface(\n",
    "   fn = pdf_to_text,\n",
    "   inputs = 'file',\n",
    "   outputs = 'audio'\n",
    "   )\n",
    "iface.launch()"
   ]
  },
  {
   "cell_type": "code",
   "execution_count": 11,
   "metadata": {},
   "outputs": [
    {
     "name": "stdout",
     "output_type": "stream",
     "text": [
      "Running locally at: http://127.0.0.1:7861/\n",
      "To create a public link, set `share=True` in `launch()`.\n",
      "Interface loading below...\n"
     ]
    },
    {
     "data": {
      "text/html": [
       "\n",
       "        <iframe\n",
       "            width=\"900\"\n",
       "            height=\"500\"\n",
       "            src=\"http://127.0.0.1:7861/\"\n",
       "            frameborder=\"0\"\n",
       "            allowfullscreen\n",
       "        ></iframe>\n",
       "        "
      ],
      "text/plain": [
       "<IPython.lib.display.IFrame at 0x7f52d642dca0>"
      ]
     },
     "metadata": {},
     "output_type": "display_data"
    },
    {
     "data": {
      "text/plain": [
       "(<Flask 'gradio.networking'>, 'http://127.0.0.1:7861/', None)"
      ]
     },
     "execution_count": 11,
     "metadata": {},
     "output_type": "execute_result"
    }
   ],
   "source": [
    "import os\n",
    "examples = [\n",
    "    [os.path.abspath(\"short-pdf.pdf\")],\n",
    "    [os.path.abspath(\"long-pdf.pdf\")]\n",
    "]\n",
    "\n",
    "iface = gr.Interface(fn = pdf_to_text, \n",
    "                     inputs = 'file', \n",
    "                     outputs = 'audio', \n",
    "                     title = 'PDF into speech Application',\n",
    "                     description = 'Simple application in python to try the Gradio package components',\n",
    "                     article = \n",
    "                        '''<div>\n",
    "                            <p> All you need to do is to upload the pdf file and hit submit, then wait for compiling. After that click on Play/Pause for listening to the audio. The audio is saved in a wav format.</p>\n",
    "                        </div>'''\n",
    "                    )\n",
    "iface.launch()"
   ]
  },
  {
   "cell_type": "code",
   "execution_count": 17,
   "metadata": {},
   "outputs": [
    {
     "name": "stdout",
     "output_type": "stream",
     "text": [
      "Running locally at: http://127.0.0.1:7863/\n",
      "To create a public link, set `share=True` in `launch()`.\n",
      "Interface loading below...\n"
     ]
    },
    {
     "data": {
      "text/html": [
       "\n",
       "        <iframe\n",
       "            width=\"900\"\n",
       "            height=\"500\"\n",
       "            src=\"http://127.0.0.1:7863/\"\n",
       "            frameborder=\"0\"\n",
       "            allowfullscreen\n",
       "        ></iframe>\n",
       "        "
      ],
      "text/plain": [
       "<IPython.lib.display.IFrame at 0x7f52d534df40>"
      ]
     },
     "metadata": {},
     "output_type": "display_data"
    },
    {
     "data": {
      "text/plain": [
       "(<Flask 'gradio.networking'>, 'http://127.0.0.1:7863/', None)"
      ]
     },
     "execution_count": 17,
     "metadata": {},
     "output_type": "execute_result"
    }
   ],
   "source": [
    "\n",
    "\n",
    "import gradio as gr\n",
    "\n",
    "def recognize_digit(img):\n",
    "    # ... implement digit recognition model on input array \n",
    "    # ... return dictionary of labels and confidences \n",
    "    return {'7':0.90}\n",
    "\n",
    "\n",
    "gr.Interface(fn=recognize_digit, inputs=\"sketchpad\", outputs=\"label\").launch()\n",
    "\n"
   ]
  },
  {
   "cell_type": "code",
   "execution_count": null,
   "metadata": {},
   "outputs": [],
   "source": []
  }
 ],
 "metadata": {
  "kernelspec": {
   "display_name": "Python 3",
   "language": "python",
   "name": "python3"
  },
  "language_info": {
   "codemirror_mode": {
    "name": "ipython",
    "version": 3
   },
   "file_extension": ".py",
   "mimetype": "text/x-python",
   "name": "python",
   "nbconvert_exporter": "python",
   "pygments_lexer": "ipython3",
   "version": "3.8.3"
  }
 },
 "nbformat": 4,
 "nbformat_minor": 4
}
